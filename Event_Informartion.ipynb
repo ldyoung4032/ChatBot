{
 "cells": [
  {
   "cell_type": "code",
   "execution_count": 88,
   "metadata": {},
   "outputs": [],
   "source": [
    "import requests\n",
    "from bs4 import BeautifulSoup as bs\n",
    "import re\n",
    "import urllib.request"
   ]
  },
  {
   "cell_type": "code",
   "execution_count": 103,
   "metadata": {
    "scrolled": true
   },
   "outputs": [
    {
     "name": "stdout",
     "output_type": "stream",
     "text": [
      "[{'title': '집에서 즐기는 스타필드 키즈공연 - 엄지공주', 'data': '09.13(일) - 09.27(일)', 'image': 'http://www.starfield.co.kr/images/event/evtImg/kids/kids_body_img_12.jpg?v=1'}, {'title': '9월 별별 스탬프', 'data': '09.01(화) - 09.30(수)', 'image': 'http://www.starfield.co.kr/cdn/starfield_02/evt/20200831/IM20200831040454467371.jpg'}, {'title': '별마당 도서관 프로그램 잠정 연기  안내', 'data': '09.01(화) - 09.30(수)', 'image': 'http://www.starfield.co.kr/cdn/starfield_02/evt/20200831/IM20200831024103371761.jpg'}, {'title': '별마당 도서관 프리미엄 굿즈 출시', 'data': '05.29(금)', 'image': 'http://www.starfield.co.kr/images/coexmall/event/ev_g01.jpg'}, {'title': '현대카드 평일 F&B매장 결제 시 M포인트 최대 30% 사용', 'data': '01.01(수)- 12.31(목)', 'image': 'http://www.starfield.co.kr/cdn/starfield_02/evt/20200427/IM20200427024845420877.jpg'}, {'title': 'SO클럽 5% 할인 브랜드 안내', 'data': '01.01(수)- 12.31(목)', 'image': 'http://www.starfield.co.kr/cdn/starfield_02/evt/20200903/IM20200903083414806353.jpg'}, {'title': ' 스타필드 SO CLUB 안내', 'data': '01.01(수)- 12.31(목)', 'image': 'http://www.starfield.co.kr/cdn/starfield_02/evt/20200819/IM20200819025444048743.jpg'}]\n"
     ]
    }
   ],
   "source": [
    "resp = requests.request(\"GET\", \"https://www.starfield.co.kr/coexmall/event/eventList.do#whats-new\")\n",
    "soup = bs(resp.text)\n",
    "\n",
    "eventlist = soup.find('ul', 'eventList')\n",
    "\n",
    "events = eventlist.find_all('li')\n",
    "\n",
    "event_info = []\n",
    "for idx ,event in enumerate(events) : ## 하나의 이벤트\n",
    "    onclick = event.find('a')['onclick'] \n",
    "    find_EV = onclick[20:40]\n",
    "    url = \"https://www.starfield.co.kr/coexmall/event/eventView.do?evt_seq={}&eventPageIndex=1&promotionPageIndex=1&pageIndex=1&isPromotion=false\".format(find_EV)\n",
    "    \n",
    "    resp = requests.request(\"GET\", url)\n",
    "    soup = bs(resp.text)\n",
    "    \n",
    "    title = soup.find('h2', 'contentTit').text\n",
    "    img_src = soup.find('div', 'image-wrap').find('img')['src']\n",
    "    img = \"http://www.starfield.co.kr{}\".format(img_src)\n",
    "#     urllib.request.urlretrieve(img, 'event{}.jpg'.format(idx+1))\n",
    "    \n",
    "    try :\n",
    "        date = soup.find('div', 'event-contents type1').find('dd').text.strip()\n",
    "    except: \n",
    "        pass\n",
    "    \n",
    "    event_info.append({\n",
    "        'title' : title,\n",
    "        'data' : date,\n",
    "        'image' : img\n",
    "    })\n",
    "\n",
    "print(event_info)"
   ]
  }
 ],
 "metadata": {
  "kernelspec": {
   "display_name": "Python 3",
   "language": "python",
   "name": "python3"
  },
  "language_info": {
   "codemirror_mode": {
    "name": "ipython",
    "version": 3
   },
   "file_extension": ".py",
   "mimetype": "text/x-python",
   "name": "python",
   "nbconvert_exporter": "python",
   "pygments_lexer": "ipython3",
   "version": "3.7.6"
  }
 },
 "nbformat": 4,
 "nbformat_minor": 4
}
